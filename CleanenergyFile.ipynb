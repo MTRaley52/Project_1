{
 "cells": [
  {
   "cell_type": "code",
   "execution_count": 2,
   "metadata": {},
   "outputs": [],
   "source": [
    "import pandas as pd\n",
    "import numpy as np\n",
    "import seaborn as sns\n",
    "import matplotlib.pyplot as plt\n",
    "from functools import reduce\n",
    "import requests\n",
    "import json\n",
    "from pprint import pprint\n",
    "from confy import gkey"
   ]
  },
  {
   "cell_type": "code",
   "execution_count": 3,
   "metadata": {},
   "outputs": [],
   "source": [
    "#base_url=\"http://api.eia.gov/geoset/?geoset_id=sssssss&regions=NewMexico&api_key=gkey[&start=|&num=1960][&end=2016][&out=json]\""
   ]
  },
  {
   "cell_type": "code",
   "execution_count": 4,
   "metadata": {},
   "outputs": [],
   "source": [
    "# Gathering Production data by source of enery (Btu)\n",
    "#base_url=\"http://api.eia.gov/series/?\"\n",
    "#api_key=YOUR_API_KEY_HERE&series_id=SEDS.CLPRB.NM.A\n",
    "\n",
    "#series_id_to_call=[\"SEDS.CLPRB.NM.A;SEDS.PAPRB.NM.A;SEDS.NGMPB.NM.A;SEDS.REPRB.NM.A\"]\n",
    "#parame={\"api_key\":gkey,\"series_id\":series_id_to_call}"
   ]
  },
  {
   "cell_type": "code",
   "execution_count": 5,
   "metadata": {},
   "outputs": [
    {
     "data": {
      "text/html": [
       "<div>\n",
       "<style scoped>\n",
       "    .dataframe tbody tr th:only-of-type {\n",
       "        vertical-align: middle;\n",
       "    }\n",
       "\n",
       "    .dataframe tbody tr th {\n",
       "        vertical-align: top;\n",
       "    }\n",
       "\n",
       "    .dataframe thead th {\n",
       "        text-align: right;\n",
       "    }\n",
       "</style>\n",
       "<table border=\"1\" class=\"dataframe\">\n",
       "  <thead>\n",
       "    <tr style=\"text-align: right;\">\n",
       "      <th></th>\n",
       "      <th>Year</th>\n",
       "      <th>Coal_Energy_Production(Billion-Btu)</th>\n",
       "    </tr>\n",
       "  </thead>\n",
       "  <tbody>\n",
       "    <tr>\n",
       "      <th>0</th>\n",
       "      <td>2016</td>\n",
       "      <td>246549</td>\n",
       "    </tr>\n",
       "    <tr>\n",
       "      <th>1</th>\n",
       "      <td>2015</td>\n",
       "      <td>357525</td>\n",
       "    </tr>\n",
       "    <tr>\n",
       "      <th>2</th>\n",
       "      <td>2014</td>\n",
       "      <td>400158</td>\n",
       "    </tr>\n",
       "    <tr>\n",
       "      <th>3</th>\n",
       "      <td>2013</td>\n",
       "      <td>400228</td>\n",
       "    </tr>\n",
       "    <tr>\n",
       "      <th>4</th>\n",
       "      <td>2012</td>\n",
       "      <td>409050</td>\n",
       "    </tr>\n",
       "  </tbody>\n",
       "</table>\n",
       "</div>"
      ],
      "text/plain": [
       "   Year  Coal_Energy_Production(Billion-Btu)\n",
       "0  2016                               246549\n",
       "1  2015                               357525\n",
       "2  2014                               400158\n",
       "3  2013                               400228\n",
       "4  2012                               409050"
      ]
     },
     "execution_count": 5,
     "metadata": {},
     "output_type": "execute_result"
    }
   ],
   "source": [
    "base_url=\"http://api.eia.gov/series/?\"\n",
    "series_id_to_call=[\"SEDS.CLPRB.NM.A\"]\n",
    "parame={\"api_key\":gkey,\"series_id\":series_id_to_call}\n",
    "coal = requests.get(base_url, params=parame).json()\n",
    "coal_df=pd.DataFrame(coal[\"series\"][0][\"data\"])\n",
    "#coal_df.rename({columns={\"0\": Year,\"1\":Energy}, inplace=True)\n",
    "coal_df.columns=[\"Year\",\"Coal_Energy_Production(Billion-Btu)\"]\n",
    "coal_df.head()"
   ]
  },
  {
   "cell_type": "code",
   "execution_count": 15,
   "metadata": {},
   "outputs": [
    {
     "data": {
      "text/html": [
       "<div>\n",
       "<style scoped>\n",
       "    .dataframe tbody tr th:only-of-type {\n",
       "        vertical-align: middle;\n",
       "    }\n",
       "\n",
       "    .dataframe tbody tr th {\n",
       "        vertical-align: top;\n",
       "    }\n",
       "\n",
       "    .dataframe thead th {\n",
       "        text-align: right;\n",
       "    }\n",
       "</style>\n",
       "<table border=\"1\" class=\"dataframe\">\n",
       "  <thead>\n",
       "    <tr style=\"text-align: right;\">\n",
       "      <th></th>\n",
       "      <th>Year</th>\n",
       "      <th>Crude_Oil_Energy_Production(Billion-Btu)</th>\n",
       "    </tr>\n",
       "  </thead>\n",
       "  <tbody>\n",
       "    <tr>\n",
       "      <th>0</th>\n",
       "      <td>2016</td>\n",
       "      <td>835561</td>\n",
       "    </tr>\n",
       "    <tr>\n",
       "      <th>1</th>\n",
       "      <td>2015</td>\n",
       "      <td>842640</td>\n",
       "    </tr>\n",
       "    <tr>\n",
       "      <th>2</th>\n",
       "      <td>2014</td>\n",
       "      <td>723347</td>\n",
       "    </tr>\n",
       "    <tr>\n",
       "      <th>3</th>\n",
       "      <td>2013</td>\n",
       "      <td>595289</td>\n",
       "    </tr>\n",
       "    <tr>\n",
       "      <th>4</th>\n",
       "      <td>2012</td>\n",
       "      <td>496178</td>\n",
       "    </tr>\n",
       "  </tbody>\n",
       "</table>\n",
       "</div>"
      ],
      "text/plain": [
       "   Year  Crude_Oil_Energy_Production(Billion-Btu)\n",
       "0  2016                                    835561\n",
       "1  2015                                    842640\n",
       "2  2014                                    723347\n",
       "3  2013                                    595289\n",
       "4  2012                                    496178"
      ]
     },
     "execution_count": 15,
     "metadata": {},
     "output_type": "execute_result"
    }
   ],
   "source": [
    "base_url=\"http://api.eia.gov/series/?\"\n",
    "series_id_to_call=[\"SEDS.PAPRB.NM.A\"]\n",
    "parame={\"api_key\":gkey,\"series_id\":series_id_to_call}\n",
    "Crude = requests.get(base_url, params=parame).json()\n",
    "Crude_df=pd.DataFrame(Crude[\"series\"][0][\"data\"])\n",
    "Crude_df.columns=[\"Year\",\"Crude_Oil_Energy_Production(Billion-Btu)\"]\n",
    "Crude_df.head()"
   ]
  },
  {
   "cell_type": "code",
   "execution_count": 16,
   "metadata": {},
   "outputs": [
    {
     "data": {
      "text/html": [
       "<div>\n",
       "<style scoped>\n",
       "    .dataframe tbody tr th:only-of-type {\n",
       "        vertical-align: middle;\n",
       "    }\n",
       "\n",
       "    .dataframe tbody tr th {\n",
       "        vertical-align: top;\n",
       "    }\n",
       "\n",
       "    .dataframe thead th {\n",
       "        text-align: right;\n",
       "    }\n",
       "</style>\n",
       "<table border=\"1\" class=\"dataframe\">\n",
       "  <thead>\n",
       "    <tr style=\"text-align: right;\">\n",
       "      <th></th>\n",
       "      <th>Year</th>\n",
       "      <th>Natura_Gas_Energy_Production(Billion-Btu)</th>\n",
       "    </tr>\n",
       "  </thead>\n",
       "  <tbody>\n",
       "    <tr>\n",
       "      <th>0</th>\n",
       "      <td>2016</td>\n",
       "      <td>1450059</td>\n",
       "    </tr>\n",
       "    <tr>\n",
       "      <th>1</th>\n",
       "      <td>2015</td>\n",
       "      <td>1442958</td>\n",
       "    </tr>\n",
       "    <tr>\n",
       "      <th>2</th>\n",
       "      <td>2014</td>\n",
       "      <td>1404289</td>\n",
       "    </tr>\n",
       "    <tr>\n",
       "      <th>3</th>\n",
       "      <td>2013</td>\n",
       "      <td>1338657</td>\n",
       "    </tr>\n",
       "    <tr>\n",
       "      <th>4</th>\n",
       "      <td>2012</td>\n",
       "      <td>1374261</td>\n",
       "    </tr>\n",
       "  </tbody>\n",
       "</table>\n",
       "</div>"
      ],
      "text/plain": [
       "   Year  Natura_Gas_Energy_Production(Billion-Btu)\n",
       "0  2016                                    1450059\n",
       "1  2015                                    1442958\n",
       "2  2014                                    1404289\n",
       "3  2013                                    1338657\n",
       "4  2012                                    1374261"
      ]
     },
     "execution_count": 16,
     "metadata": {},
     "output_type": "execute_result"
    }
   ],
   "source": [
    "base_url=\"http://api.eia.gov/series/?\"\n",
    "series_id_to_call=[\"SEDS.NGMPB.NM.A\"]\n",
    "parame={\"api_key\":gkey,\"series_id\":series_id_to_call}\n",
    "Gas = requests.get(base_url, params=parame).json()\n",
    "Gas_df=pd.DataFrame(Gas[\"series\"][0][\"data\"])\n",
    "Gas_df.columns=[\"Year\",\"Natura_Gas_Energy_Production(Billion-Btu)\"]\n",
    "Gas_df.head()"
   ]
  },
  {
   "cell_type": "code",
   "execution_count": 17,
   "metadata": {},
   "outputs": [
    {
     "data": {
      "text/html": [
       "<div>\n",
       "<style scoped>\n",
       "    .dataframe tbody tr th:only-of-type {\n",
       "        vertical-align: middle;\n",
       "    }\n",
       "\n",
       "    .dataframe tbody tr th {\n",
       "        vertical-align: top;\n",
       "    }\n",
       "\n",
       "    .dataframe thead th {\n",
       "        text-align: right;\n",
       "    }\n",
       "</style>\n",
       "<table border=\"1\" class=\"dataframe\">\n",
       "  <thead>\n",
       "    <tr style=\"text-align: right;\">\n",
       "      <th></th>\n",
       "      <th>Year</th>\n",
       "      <th>Renewable_Energy_Production(Billion-Btu)</th>\n",
       "    </tr>\n",
       "  </thead>\n",
       "  <tbody>\n",
       "    <tr>\n",
       "      <th>0</th>\n",
       "      <td>2016</td>\n",
       "      <td>50045</td>\n",
       "    </tr>\n",
       "    <tr>\n",
       "      <th>1</th>\n",
       "      <td>2015</td>\n",
       "      <td>35709</td>\n",
       "    </tr>\n",
       "    <tr>\n",
       "      <th>2</th>\n",
       "      <td>2014</td>\n",
       "      <td>41959</td>\n",
       "    </tr>\n",
       "    <tr>\n",
       "      <th>3</th>\n",
       "      <td>2013</td>\n",
       "      <td>39772</td>\n",
       "    </tr>\n",
       "    <tr>\n",
       "      <th>4</th>\n",
       "      <td>2012</td>\n",
       "      <td>37798</td>\n",
       "    </tr>\n",
       "  </tbody>\n",
       "</table>\n",
       "</div>"
      ],
      "text/plain": [
       "   Year  Renewable_Energy_Production(Billion-Btu)\n",
       "0  2016                                     50045\n",
       "1  2015                                     35709\n",
       "2  2014                                     41959\n",
       "3  2013                                     39772\n",
       "4  2012                                     37798"
      ]
     },
     "execution_count": 17,
     "metadata": {},
     "output_type": "execute_result"
    }
   ],
   "source": [
    "base_url=\"http://api.eia.gov/series/?\"\n",
    "series_id_to_call=[\"SEDS.REPRB.NM.A\"]\n",
    "parame={\"api_key\":gkey,\"series_id\":series_id_to_call}\n",
    "Renew = requests.get(base_url, params=parame).json()\n",
    "Renew_df=pd.DataFrame(Renew[\"series\"][0][\"data\"])\n",
    "Renew_df.columns=[\"Year\",\"Renewable_Energy_Production(Billion-Btu)\"]\n",
    "Renew_df.head()"
   ]
  },
  {
   "cell_type": "code",
   "execution_count": 18,
   "metadata": {},
   "outputs": [
    {
     "data": {
      "text/html": [
       "<div>\n",
       "<style scoped>\n",
       "    .dataframe tbody tr th:only-of-type {\n",
       "        vertical-align: middle;\n",
       "    }\n",
       "\n",
       "    .dataframe tbody tr th {\n",
       "        vertical-align: top;\n",
       "    }\n",
       "\n",
       "    .dataframe thead th {\n",
       "        text-align: right;\n",
       "    }\n",
       "</style>\n",
       "<table border=\"1\" class=\"dataframe\">\n",
       "  <thead>\n",
       "    <tr style=\"text-align: right;\">\n",
       "      <th></th>\n",
       "      <th>Year</th>\n",
       "      <th>Coal_Energy_Production(Billion-Btu)</th>\n",
       "      <th>Crude_Oil_Energy_Production(Billion-Btu)</th>\n",
       "      <th>Natura_Gas_Energy_Production(Billion-Btu)</th>\n",
       "      <th>Renewable_Energy_Production(Billion-Btu)</th>\n",
       "    </tr>\n",
       "  </thead>\n",
       "  <tbody>\n",
       "    <tr>\n",
       "      <th>0</th>\n",
       "      <td>2016</td>\n",
       "      <td>246549</td>\n",
       "      <td>835561</td>\n",
       "      <td>1450059</td>\n",
       "      <td>50045</td>\n",
       "    </tr>\n",
       "    <tr>\n",
       "      <th>1</th>\n",
       "      <td>2015</td>\n",
       "      <td>357525</td>\n",
       "      <td>842640</td>\n",
       "      <td>1442958</td>\n",
       "      <td>35709</td>\n",
       "    </tr>\n",
       "    <tr>\n",
       "      <th>2</th>\n",
       "      <td>2014</td>\n",
       "      <td>400158</td>\n",
       "      <td>723347</td>\n",
       "      <td>1404289</td>\n",
       "      <td>41959</td>\n",
       "    </tr>\n",
       "    <tr>\n",
       "      <th>3</th>\n",
       "      <td>2013</td>\n",
       "      <td>400228</td>\n",
       "      <td>595289</td>\n",
       "      <td>1338657</td>\n",
       "      <td>39772</td>\n",
       "    </tr>\n",
       "    <tr>\n",
       "      <th>4</th>\n",
       "      <td>2012</td>\n",
       "      <td>409050</td>\n",
       "      <td>496178</td>\n",
       "      <td>1374261</td>\n",
       "      <td>37798</td>\n",
       "    </tr>\n",
       "  </tbody>\n",
       "</table>\n",
       "</div>"
      ],
      "text/plain": [
       "   Year  Coal_Energy_Production(Billion-Btu)  \\\n",
       "0  2016                               246549   \n",
       "1  2015                               357525   \n",
       "2  2014                               400158   \n",
       "3  2013                               400228   \n",
       "4  2012                               409050   \n",
       "\n",
       "   Crude_Oil_Energy_Production(Billion-Btu)  \\\n",
       "0                                    835561   \n",
       "1                                    842640   \n",
       "2                                    723347   \n",
       "3                                    595289   \n",
       "4                                    496178   \n",
       "\n",
       "   Natura_Gas_Energy_Production(Billion-Btu)  \\\n",
       "0                                    1450059   \n",
       "1                                    1442958   \n",
       "2                                    1404289   \n",
       "3                                    1338657   \n",
       "4                                    1374261   \n",
       "\n",
       "   Renewable_Energy_Production(Billion-Btu)  \n",
       "0                                     50045  \n",
       "1                                     35709  \n",
       "2                                     41959  \n",
       "3                                     39772  \n",
       "4                                     37798  "
      ]
     },
     "execution_count": 18,
     "metadata": {},
     "output_type": "execute_result"
    }
   ],
   "source": [
    "all_data=[coal_df,Crude_df,Gas_df,Renew_df]\n",
    "Production_table=reduce (lambda left,right: pd.merge(left,right,on='Year'), all_data)\n",
    "Production_table.head()"
   ]
  },
  {
   "cell_type": "code",
   "execution_count": 40,
   "metadata": {},
   "outputs": [
    {
     "data": {
      "image/png": "[encoded data removed]",
      "text/plain": [
       "<Figure size 432x288 with 1 Axes>"
      ]
     },
     "metadata": {
      "needs_background": "light"
     },
     "output_type": "display_data"
    }
   ],
   "source": [
    "Production_table.plot(\"Year\",)\n",
    "plt.gca().invert_xaxis() #invert axes\n",
    "plt.legend(bbox_to_anchor=(1.05, 1), loc=2, borderaxespad=0.)\n",
    "plt.ylabel('Billiion-Btu')\n",
    "plt.title('Energy Production by Source')\n",
    "plt.grid(True)\n",
    "plt.show()"
   ]
  },
  {
   "cell_type": "code",
   "execution_count": 22,
   "metadata": {},
   "outputs": [
    {
     "data": {
      "text/html": [
       "<div>\n",
       "<style scoped>\n",
       "    .dataframe tbody tr th:only-of-type {\n",
       "        vertical-align: middle;\n",
       "    }\n",
       "\n",
       "    .dataframe tbody tr th {\n",
       "        vertical-align: top;\n",
       "    }\n",
       "\n",
       "    .dataframe thead th {\n",
       "        text-align: right;\n",
       "    }\n",
       "</style>\n",
       "<table border=\"1\" class=\"dataframe\">\n",
       "  <thead>\n",
       "    <tr style=\"text-align: right;\">\n",
       "      <th></th>\n",
       "      <th>Year</th>\n",
       "      <th>Tota_Energy_Consumption(Billion-Btu)</th>\n",
       "    </tr>\n",
       "  </thead>\n",
       "  <tbody>\n",
       "    <tr>\n",
       "      <th>0</th>\n",
       "      <td>2016</td>\n",
       "      <td>667125</td>\n",
       "    </tr>\n",
       "    <tr>\n",
       "      <th>1</th>\n",
       "      <td>2015</td>\n",
       "      <td>676563</td>\n",
       "    </tr>\n",
       "    <tr>\n",
       "      <th>2</th>\n",
       "      <td>2014</td>\n",
       "      <td>680239</td>\n",
       "    </tr>\n",
       "    <tr>\n",
       "      <th>3</th>\n",
       "      <td>2013</td>\n",
       "      <td>670515</td>\n",
       "    </tr>\n",
       "    <tr>\n",
       "      <th>4</th>\n",
       "      <td>2012</td>\n",
       "      <td>666801</td>\n",
       "    </tr>\n",
       "  </tbody>\n",
       "</table>\n",
       "</div>"
      ],
      "text/plain": [
       "   Year  Tota_Energy_Consumption(Billion-Btu)\n",
       "0  2016                                667125\n",
       "1  2015                                676563\n",
       "2  2014                                680239\n",
       "3  2013                                670515\n",
       "4  2012                                666801"
      ]
     },
     "execution_count": 22,
     "metadata": {},
     "output_type": "execute_result"
    }
   ],
   "source": [
    "base_url=\"http://api.eia.gov/series/?\"\n",
    "series_id_to_call=[\"SEDS.TETCB.NM.A\"]\n",
    "parame={\"api_key\":gkey,\"series_id\":series_id_to_call}\n",
    "Total = requests.get(base_url, params=parame).json()\n",
    "Total_df=pd.DataFrame(Total[\"series\"][0][\"data\"])\n",
    "#coal_df.rename({columns={\"0\": Year,\"1\":Energy}, inplace=True)\n",
    "Total_df.columns=[\"Year\",\"Tota_Energy_Consumption(Billion-Btu)\"]\n",
    "Total_df.head()"
   ]
  },
  {
   "cell_type": "code",
   "execution_count": 23,
   "metadata": {},
   "outputs": [
    {
     "data": {
      "image/png": "[encoded data removed]",
      "text/plain": [
       "<Figure size 432x288 with 1 Axes>"
      ]
     },
     "metadata": {
      "needs_background": "light"
     },
     "output_type": "display_data"
    }
   ],
   "source": [
    "Total_df.plot(\"Year\",)\n",
    "plt.gca().invert_xaxis() #invert axes\n",
    "plt.legend(bbox_to_anchor=(1.05, 1), loc=2, borderaxespad=0.)\n",
    "plt.ylabel('Billiion-Btu')\n",
    "plt.title('Total Energy Consumption')\n",
    "plt.grid(True)\n",
    "plt.show()"
   ]
  },
  {
   "cell_type": "code",
   "execution_count": 24,
   "metadata": {},
   "outputs": [],
   "source": [
    "#Consumptionn by sector:\n",
    "#coal...........................................................................\n",
    "base_url=\"http://api.eia.gov/series/?\"\n",
    "series_id_to_call=[\"SEDS.CLTCB.NM.A\"]\n",
    "parame={\"api_key\":gkey,\"series_id\":series_id_to_call}\n",
    "coal_consump = requests.get(base_url, params=parame).json()\n",
    "coal_consump_df=pd.DataFrame(coal_consump[\"series\"][0][\"data\"])\n",
    "#coal_df.rename({columns={\"0\": Year,\"1\":Energy}, inplace=True)\n",
    "coal_consump_df.columns=[\"Year\",\"Coal_Consumption(Billion-Btu)\"]\n",
    "#coal_consump_df.head()\n",
    "#Oil..........................................................................\n",
    "base_url=\"http://api.eia.gov/series/?\"\n",
    "series_id_to_call=[\"SEDS.PMTCB.NM.A\"]\n",
    "parame={\"api_key\":gkey,\"series_id\":series_id_to_call}\n",
    "oil_consump = requests.get(base_url, params=parame).json()\n",
    "oil_consump_df=pd.DataFrame(oil_consump[\"series\"][0][\"data\"])\n",
    "#coal_df.rename({columns={\"0\": Year,\"1\":Energy}, inplace=True)\n",
    "oil_consump_df.columns=[\"Year\",\"Crude_oil_Consumption(Billion-Btu)\"]\n",
    "#oil_consump_df.head()\n",
    "\n",
    "#Natural Gas...................................................................\n",
    "base_url=\"http://api.eia.gov/series/?\"\n",
    "series_id_to_call=[\"SEDS.NGTCB.NM.A\"]\n",
    "parame={\"api_key\":gkey,\"series_id\":series_id_to_call}\n",
    "gas_consump = requests.get(base_url, params=parame).json()\n",
    "gas_consump_df=pd.DataFrame(gas_consump[\"series\"][0][\"data\"])\n",
    "#coal_df.rename({columns={\"0\": Year,\"1\":Energy}, inplace=True)\n",
    "gas_consump_df.columns=[\"Year\",\"Natural_Gas_Consumption(Billion-Btu)\"]\n",
    "#gas_consump_df.head()\n"
   ]
  },
  {
   "cell_type": "code",
   "execution_count": 25,
   "metadata": {},
   "outputs": [],
   "source": [
    "#Renewable_Energy..................................................................\n",
    "base_url=\"http://api.eia.gov/series/?\"\n",
    "series_id_to_call=[\"SEDS.RETCB.NM.A\"]\n",
    "parame={\"api_key\":gkey,\"series_id\":series_id_to_call}\n",
    "renew_consump = requests.get(base_url, params=parame).json()\n",
    "renew_consump_df=pd.DataFrame(renew_consump[\"series\"][0][\"data\"])\n",
    "renew_consump_df.columns=[\"Year\",\"Renewable_Energys_Consumption(Billion-Btu)\"]\n",
    "#renew_consump_df.head()"
   ]
  },
  {
   "cell_type": "code",
   "execution_count": 26,
   "metadata": {},
   "outputs": [
    {
     "data": {
      "text/html": [
       "<div>\n",
       "<style scoped>\n",
       "    .dataframe tbody tr th:only-of-type {\n",
       "        vertical-align: middle;\n",
       "    }\n",
       "\n",
       "    .dataframe tbody tr th {\n",
       "        vertical-align: top;\n",
       "    }\n",
       "\n",
       "    .dataframe thead th {\n",
       "        text-align: right;\n",
       "    }\n",
       "</style>\n",
       "<table border=\"1\" class=\"dataframe\">\n",
       "  <thead>\n",
       "    <tr style=\"text-align: right;\">\n",
       "      <th></th>\n",
       "      <th>Year</th>\n",
       "      <th>Coal_Consumption(Billion-Btu)</th>\n",
       "      <th>Crude_oil_Consumption(Billion-Btu)</th>\n",
       "      <th>Natural_Gas_Consumption(Billion-Btu)</th>\n",
       "      <th>Renewable_Energys_Consumption(Billion-Btu)</th>\n",
       "    </tr>\n",
       "  </thead>\n",
       "  <tbody>\n",
       "    <tr>\n",
       "      <th>0</th>\n",
       "      <td>2016</td>\n",
       "      <td>197083</td>\n",
       "      <td>237867</td>\n",
       "      <td>259158</td>\n",
       "      <td>58296</td>\n",
       "    </tr>\n",
       "    <tr>\n",
       "      <th>1</th>\n",
       "      <td>2015</td>\n",
       "      <td>215703</td>\n",
       "      <td>239184</td>\n",
       "      <td>260038</td>\n",
       "      <td>44125</td>\n",
       "    </tr>\n",
       "    <tr>\n",
       "      <th>2</th>\n",
       "      <td>2014</td>\n",
       "      <td>215348</td>\n",
       "      <td>241242</td>\n",
       "      <td>256056</td>\n",
       "      <td>46598</td>\n",
       "    </tr>\n",
       "    <tr>\n",
       "      <th>3</th>\n",
       "      <td>2013</td>\n",
       "      <td>256377</td>\n",
       "      <td>232753</td>\n",
       "      <td>252867</td>\n",
       "      <td>44906</td>\n",
       "    </tr>\n",
       "    <tr>\n",
       "      <th>4</th>\n",
       "      <td>2012</td>\n",
       "      <td>263439</td>\n",
       "      <td>232630</td>\n",
       "      <td>249815</td>\n",
       "      <td>43728</td>\n",
       "    </tr>\n",
       "  </tbody>\n",
       "</table>\n",
       "</div>"
      ],
      "text/plain": [
       "   Year  Coal_Consumption(Billion-Btu)  Crude_oil_Consumption(Billion-Btu)  \\\n",
       "0  2016                         197083                              237867   \n",
       "1  2015                         215703                              239184   \n",
       "2  2014                         215348                              241242   \n",
       "3  2013                         256377                              232753   \n",
       "4  2012                         263439                              232630   \n",
       "\n",
       "   Natural_Gas_Consumption(Billion-Btu)  \\\n",
       "0                                259158   \n",
       "1                                260038   \n",
       "2                                256056   \n",
       "3                                252867   \n",
       "4                                249815   \n",
       "\n",
       "   Renewable_Energys_Consumption(Billion-Btu)  \n",
       "0                                       58296  \n",
       "1                                       44125  \n",
       "2                                       46598  \n",
       "3                                       44906  \n",
       "4                                       43728  "
      ]
     },
     "execution_count": 26,
     "metadata": {},
     "output_type": "execute_result"
    }
   ],
   "source": [
    "all_Comsupmtion_data=[coal_consump_df,oil_consump_df,gas_consump_df,renew_consump_df]\n",
    "Consumption_table=reduce(lambda left,right: pd.merge(left,right,on='Year'), all_Comsupmtion_data)\n",
    "Consumption_table.head()"
   ]
  },
  {
   "cell_type": "code",
   "execution_count": 27,
   "metadata": {},
   "outputs": [
    {
     "data": {
      "image/png": "[encoded data removed]",
      "text/plain": [
       "<Figure size 432x288 with 1 Axes>"
      ]
     },
     "metadata": {
      "needs_background": "light"
     },
     "output_type": "display_data"
    }
   ],
   "source": [
    "Consumption_table.plot(\"Year\",)\n",
    "plt.gca().invert_xaxis() #invert axes\n",
    "plt.legend(bbox_to_anchor=(1.05, 1), loc=2, borderaxespad=0.)\n",
    "plt.ylabel('Billiion-Btu')\n",
    "plt.title('Energy Consumption by Source')\n",
    "plt.grid(True)\n",
    "plt.show()"
   ]
  },
  {
   "cell_type": "code",
   "execution_count": 28,
   "metadata": {},
   "outputs": [
    {
     "data": {
      "text/html": [
       "<div>\n",
       "<style scoped>\n",
       "    .dataframe tbody tr th:only-of-type {\n",
       "        vertical-align: middle;\n",
       "    }\n",
       "\n",
       "    .dataframe tbody tr th {\n",
       "        vertical-align: top;\n",
       "    }\n",
       "\n",
       "    .dataframe thead th {\n",
       "        text-align: right;\n",
       "    }\n",
       "</style>\n",
       "<table border=\"1\" class=\"dataframe\">\n",
       "  <thead>\n",
       "    <tr style=\"text-align: right;\">\n",
       "      <th></th>\n",
       "      <th>Year</th>\n",
       "      <th>Total(per Capita)_Consumption(Billion-Btu)</th>\n",
       "    </tr>\n",
       "  </thead>\n",
       "  <tbody>\n",
       "    <tr>\n",
       "      <th>0</th>\n",
       "      <td>2016</td>\n",
       "      <td>319.9</td>\n",
       "    </tr>\n",
       "    <tr>\n",
       "      <th>1</th>\n",
       "      <td>2015</td>\n",
       "      <td>324.9</td>\n",
       "    </tr>\n",
       "    <tr>\n",
       "      <th>2</th>\n",
       "      <td>2014</td>\n",
       "      <td>326.5</td>\n",
       "    </tr>\n",
       "    <tr>\n",
       "      <th>3</th>\n",
       "      <td>2013</td>\n",
       "      <td>321.6</td>\n",
       "    </tr>\n",
       "    <tr>\n",
       "      <th>4</th>\n",
       "      <td>2012</td>\n",
       "      <td>320.0</td>\n",
       "    </tr>\n",
       "  </tbody>\n",
       "</table>\n",
       "</div>"
      ],
      "text/plain": [
       "   Year  Total(per Capita)_Consumption(Billion-Btu)\n",
       "0  2016                                       319.9\n",
       "1  2015                                       324.9\n",
       "2  2014                                       326.5\n",
       "3  2013                                       321.6\n",
       "4  2012                                       320.0"
      ]
     },
     "execution_count": 28,
     "metadata": {},
     "output_type": "execute_result"
    }
   ],
   "source": [
    "#Total Consumption per capita..................................................................\n",
    "base_url=\"http://api.eia.gov/series/?\"\n",
    "series_id_to_call=[\"SEDS.TETPB.NM.A\"]\n",
    "parame={\"api_key\":gkey,\"series_id\":series_id_to_call}\n",
    "Total_perCapita_consump = requests.get(base_url, params=parame).json()\n",
    "Total_perCapita_consump_df=pd.DataFrame(Total_perCapita_consump[\"series\"][0][\"data\"])\n",
    "Total_perCapita_consump_df.columns=[\"Year\",\"Total(per Capita)_Consumption(Billion-Btu)\"]\n",
    "Total_perCapita_consump_df.head()"
   ]
  },
  {
   "cell_type": "code",
   "execution_count": 29,
   "metadata": {},
   "outputs": [
    {
     "data": {
      "image/png": "[encoded data removed]",
      "text/plain": [
       "<Figure size 432x288 with 1 Axes>"
      ]
     },
     "metadata": {
      "needs_background": "light"
     },
     "output_type": "display_data"
    }
   ],
   "source": [
    "Total_perCapita_consump_df.plot(\"Year\",)\n",
    "plt.gca().invert_xaxis() #invert axes\n",
    "plt.legend(bbox_to_anchor=(1.05, 1), loc=2, borderaxespad=0.)\n",
    "plt.ylabel('Billiion-Btu')\n",
    "plt.title('Energy Consumption Per-Capita')\n",
    "plt.grid(True)\n",
    "plt.show()"
   ]
  },
  {
   "cell_type": "code",
   "execution_count": 30,
   "metadata": {},
   "outputs": [
    {
     "data": {
      "text/html": [
       "<div>\n",
       "<style scoped>\n",
       "    .dataframe tbody tr th:only-of-type {\n",
       "        vertical-align: middle;\n",
       "    }\n",
       "\n",
       "    .dataframe tbody tr th {\n",
       "        vertical-align: top;\n",
       "    }\n",
       "\n",
       "    .dataframe thead th {\n",
       "        text-align: right;\n",
       "    }\n",
       "</style>\n",
       "<table border=\"1\" class=\"dataframe\">\n",
       "  <thead>\n",
       "    <tr style=\"text-align: right;\">\n",
       "      <th></th>\n",
       "      <th>Year</th>\n",
       "      <th>Renewables Net Generation(Billion-Btu)</th>\n",
       "    </tr>\n",
       "  </thead>\n",
       "  <tbody>\n",
       "    <tr>\n",
       "      <th>0</th>\n",
       "      <td>2018</td>\n",
       "      <td>25556.523333</td>\n",
       "    </tr>\n",
       "    <tr>\n",
       "      <th>1</th>\n",
       "      <td>2017</td>\n",
       "      <td>19840.785630</td>\n",
       "    </tr>\n",
       "    <tr>\n",
       "      <th>2</th>\n",
       "      <td>2016</td>\n",
       "      <td>14966.793923</td>\n",
       "    </tr>\n",
       "    <tr>\n",
       "      <th>3</th>\n",
       "      <td>2015</td>\n",
       "      <td>9319.227639</td>\n",
       "    </tr>\n",
       "    <tr>\n",
       "      <th>4</th>\n",
       "      <td>2014</td>\n",
       "      <td>9586.398328</td>\n",
       "    </tr>\n",
       "  </tbody>\n",
       "</table>\n",
       "</div>"
      ],
      "text/plain": [
       "   Year  Renewables Net Generation(Billion-Btu)\n",
       "0  2018                            25556.523333\n",
       "1  2017                            19840.785630\n",
       "2  2016                            14966.793923\n",
       "3  2015                             9319.227639\n",
       "4  2014                             9586.398328"
      ]
     },
     "execution_count": 30,
     "metadata": {},
     "output_type": "execute_result"
    }
   ],
   "source": [
    "#drilling down to Electricity  Renewables Net Generation Electric power (total)...............................................................\n",
    "base_url=\"http://api.eia.gov/series/?\"\n",
    "series_id_to_call=[\"ELEC.GEN.AOR-NM-98.A\"]\n",
    "parame={\"api_key\":gkey,\"series_id\":series_id_to_call}\n",
    "Renewables_Net_Generation = requests.get(base_url, params=parame).json()\n",
    "Renewables_Net_Generation_df=pd.DataFrame(Renewables_Net_Generation[\"series\"][0][\"data\"])\n",
    "Renewables_Net_Generation_df.columns=[\"Year\",\"Renewables Net Generation(Thousand Megawatthours)\"]\n",
    "Unit_Cal=Renewables_Net_Generation_df[\"Renewables Net Generation(Thousand Megawatthours)\"]*(3.412)\n",
    "Renewables_Net_Generation_df[\"Renewables Net Generation(Billion-Btu)\"]=Unit_Cal\n",
    "Renewables_Net_Generation_df=Renewables_Net_Generation_df.drop(\"Renewables Net Generation(Thousand Megawatthours)\",axis=1)\n",
    "Renewables_Net_Generation_df.head()\n"
   ]
  },
  {
   "cell_type": "code",
   "execution_count": 31,
   "metadata": {},
   "outputs": [
    {
     "data": {
      "image/png": "[encoded data removed]",
      "text/plain": [
       "<Figure size 432x288 with 1 Axes>"
      ]
     },
     "metadata": {
      "needs_background": "light"
     },
     "output_type": "display_data"
    }
   ],
   "source": [
    "Renewables_Net_Generation_df.plot(\"Year\",)\n",
    "plt.gca().invert_xaxis() #invert axes\n",
    "plt.legend(bbox_to_anchor=(1.05, 1), loc=2, borderaxespad=0.)\n",
    "plt.ylabel('Billion-Btu')\n",
    "plt.title('Energy(Electricity) Generation From Renewable')\n",
    "plt.grid(True)\n",
    "plt.show()"
   ]
  },
  {
   "cell_type": "code",
   "execution_count": 32,
   "metadata": {},
   "outputs": [
    {
     "data": {
      "text/html": [
       "<div>\n",
       "<style scoped>\n",
       "    .dataframe tbody tr th:only-of-type {\n",
       "        vertical-align: middle;\n",
       "    }\n",
       "\n",
       "    .dataframe tbody tr th {\n",
       "        vertical-align: top;\n",
       "    }\n",
       "\n",
       "    .dataframe thead th {\n",
       "        text-align: right;\n",
       "    }\n",
       "</style>\n",
       "<table border=\"1\" class=\"dataframe\">\n",
       "  <thead>\n",
       "    <tr style=\"text-align: right;\">\n",
       "      <th></th>\n",
       "      <th>Year</th>\n",
       "      <th>Solar Net Generation(Billion-Btu)</th>\n",
       "    </tr>\n",
       "  </thead>\n",
       "  <tbody>\n",
       "    <tr>\n",
       "      <th>0</th>\n",
       "      <td>2018</td>\n",
       "      <td>4406.416140</td>\n",
       "    </tr>\n",
       "    <tr>\n",
       "      <th>1</th>\n",
       "      <td>2017</td>\n",
       "      <td>4069.289727</td>\n",
       "    </tr>\n",
       "    <tr>\n",
       "      <th>2</th>\n",
       "      <td>2016</td>\n",
       "      <td>2565.264432</td>\n",
       "    </tr>\n",
       "    <tr>\n",
       "      <th>3</th>\n",
       "      <td>2015</td>\n",
       "      <td>2097.960324</td>\n",
       "    </tr>\n",
       "    <tr>\n",
       "      <th>4</th>\n",
       "      <td>2014</td>\n",
       "      <td>1757.364965</td>\n",
       "    </tr>\n",
       "  </tbody>\n",
       "</table>\n",
       "</div>"
      ],
      "text/plain": [
       "   Year  Solar Net Generation(Billion-Btu)\n",
       "0  2018                        4406.416140\n",
       "1  2017                        4069.289727\n",
       "2  2016                        2565.264432\n",
       "3  2015                        2097.960324\n",
       "4  2014                        1757.364965"
      ]
     },
     "execution_count": 32,
     "metadata": {},
     "output_type": "execute_result"
    }
   ],
   "source": [
    "#Solar Net_Generation\n",
    "base_url=\"http://api.eia.gov/series/?\"\n",
    "series_id_to_call=[\"ELEC.GEN.SUN-NM-98.A\"]\n",
    "parame={\"api_key\":gkey,\"series_id\":series_id_to_call}\n",
    "Solar_Net_Generation = requests.get(base_url, params=parame).json()\n",
    "Solar_Net_Generation_df=pd.DataFrame(Solar_Net_Generation[\"series\"][0][\"data\"])\n",
    "Solar_Net_Generation_df.columns=[\"Year\",\"Solar Net Generation(Thousand Megawatthours)\"]\n",
    "Solar_Net_Generation_df.columns=[\"Year\",\"Solar Net Generation(Thousand Megawatthours)\"]\n",
    "Unit_Cal=Solar_Net_Generation_df[\"Solar Net Generation(Thousand Megawatthours)\"]*(3.412)\n",
    "Solar_Net_Generation_df[\"Solar Net Generation(Billion-Btu)\"]=Unit_Cal\n",
    "Solar_Net_Generation_df=Solar_Net_Generation_df.drop(\"Solar Net Generation(Thousand Megawatthours)\",axis=1)\n",
    "Solar_Net_Generation_df.head()"
   ]
  },
  {
   "cell_type": "code",
   "execution_count": 33,
   "metadata": {},
   "outputs": [
    {
     "data": {
      "image/png": "[encoded data removed]",
      "text/plain": [
       "<Figure size 432x288 with 1 Axes>"
      ]
     },
     "metadata": {
      "needs_background": "light"
     },
     "output_type": "display_data"
    }
   ],
   "source": [
    "Solar_Net_Generation_df.plot(\"Year\",)\n",
    "plt.gca().invert_xaxis() #invert axes\n",
    "plt.legend(bbox_to_anchor=(1.05, 1), loc=2, borderaxespad=0.)\n",
    "plt.ylabel('Billion-Btu')\n",
    "plt.title('Energy(Electricity) Generation From Solar')\n",
    "plt.grid(True)\n",
    "plt.show()"
   ]
  },
  {
   "cell_type": "code",
   "execution_count": 34,
   "metadata": {},
   "outputs": [
    {
     "data": {
      "text/html": [
       "<div>\n",
       "<style scoped>\n",
       "    .dataframe tbody tr th:only-of-type {\n",
       "        vertical-align: middle;\n",
       "    }\n",
       "\n",
       "    .dataframe tbody tr th {\n",
       "        vertical-align: top;\n",
       "    }\n",
       "\n",
       "    .dataframe thead th {\n",
       "        text-align: right;\n",
       "    }\n",
       "</style>\n",
       "<table border=\"1\" class=\"dataframe\">\n",
       "  <thead>\n",
       "    <tr style=\"text-align: right;\">\n",
       "      <th></th>\n",
       "      <th>Year</th>\n",
       "      <th>Coal Electicity Consumption(Billion-Btu)</th>\n",
       "    </tr>\n",
       "  </thead>\n",
       "  <tbody>\n",
       "    <tr>\n",
       "      <th>0</th>\n",
       "      <td>2018</td>\n",
       "      <td>135031.06</td>\n",
       "    </tr>\n",
       "    <tr>\n",
       "      <th>1</th>\n",
       "      <td>2017</td>\n",
       "      <td>197336.77</td>\n",
       "    </tr>\n",
       "    <tr>\n",
       "      <th>2</th>\n",
       "      <td>2016</td>\n",
       "      <td>195274.57</td>\n",
       "    </tr>\n",
       "    <tr>\n",
       "      <th>3</th>\n",
       "      <td>2015</td>\n",
       "      <td>214012.66</td>\n",
       "    </tr>\n",
       "    <tr>\n",
       "      <th>4</th>\n",
       "      <td>2014</td>\n",
       "      <td>213897.67</td>\n",
       "    </tr>\n",
       "  </tbody>\n",
       "</table>\n",
       "</div>"
      ],
      "text/plain": [
       "   Year  Coal Electicity Consumption(Billion-Btu)\n",
       "0  2018                                 135031.06\n",
       "1  2017                                 197336.77\n",
       "2  2016                                 195274.57\n",
       "3  2015                                 214012.66\n",
       "4  2014                                 213897.67"
      ]
     },
     "execution_count": 34,
     "metadata": {},
     "output_type": "execute_result"
    }
   ],
   "source": [
    "# Coal Consumption to generate Electicity\n",
    "\n",
    "base_url=\"http://api.eia.gov/series/?\"\n",
    "series_id_to_call=[\"ELEC.CONS_TOT_BTU.COW-NM-98.A\"]\n",
    "parame={\"api_key\":gkey,\"series_id\":series_id_to_call}\n",
    "Coal_Electicity_Consu = requests.get(base_url, params=parame).json()\n",
    "Coal_Electicity_Consu_df=pd.DataFrame(Coal_Electicity_Consu [\"series\"][0][\"data\"])\n",
    "Coal_Electicity_Consu_df.columns=[\"Year\",\"Coal Electicity Consumption(Billion-Btu?)\"]\n",
    "New_Col=Coal_Electicity_Consu_df[\"Coal Electicity Consumption(Billion-Btu?)\"]*1000\n",
    "#Coal_Electicity_Consu_df.head() # We have to change the unit \n",
    "Coal_Electicity_Consu_df[\"Coal Electicity Consumption(Billion-Btu)\"]=New_Col\n",
    "Coal_Electicity_Consu_df = Coal_Electicity_Consu_df.drop(\"Coal Electicity Consumption(Billion-Btu?)\",axis=1)\n",
    "Coal_Electicity_Consu_df.head()"
   ]
  },
  {
   "cell_type": "code",
   "execution_count": 35,
   "metadata": {},
   "outputs": [
    {
     "data": {
      "text/html": [
       "<div>\n",
       "<style scoped>\n",
       "    .dataframe tbody tr th:only-of-type {\n",
       "        vertical-align: middle;\n",
       "    }\n",
       "\n",
       "    .dataframe tbody tr th {\n",
       "        vertical-align: top;\n",
       "    }\n",
       "\n",
       "    .dataframe thead th {\n",
       "        text-align: right;\n",
       "    }\n",
       "</style>\n",
       "<table border=\"1\" class=\"dataframe\">\n",
       "  <thead>\n",
       "    <tr style=\"text-align: right;\">\n",
       "      <th></th>\n",
       "      <th>Year</th>\n",
       "      <th>Petroleum liquids Electicity Consumption(Billion-Btu)</th>\n",
       "    </tr>\n",
       "  </thead>\n",
       "  <tbody>\n",
       "    <tr>\n",
       "      <th>0</th>\n",
       "      <td>2018</td>\n",
       "      <td>234.19</td>\n",
       "    </tr>\n",
       "    <tr>\n",
       "      <th>1</th>\n",
       "      <td>2017</td>\n",
       "      <td>455.74</td>\n",
       "    </tr>\n",
       "    <tr>\n",
       "      <th>2</th>\n",
       "      <td>2016</td>\n",
       "      <td>569.31</td>\n",
       "    </tr>\n",
       "    <tr>\n",
       "      <th>3</th>\n",
       "      <td>2015</td>\n",
       "      <td>713.56</td>\n",
       "    </tr>\n",
       "    <tr>\n",
       "      <th>4</th>\n",
       "      <td>2014</td>\n",
       "      <td>698.28</td>\n",
       "    </tr>\n",
       "  </tbody>\n",
       "</table>\n",
       "</div>"
      ],
      "text/plain": [
       "   Year  Petroleum liquids Electicity Consumption(Billion-Btu)\n",
       "0  2018                                             234.19    \n",
       "1  2017                                             455.74    \n",
       "2  2016                                             569.31    \n",
       "3  2015                                             713.56    \n",
       "4  2014                                             698.28    "
      ]
     },
     "execution_count": 35,
     "metadata": {},
     "output_type": "execute_result"
    }
   ],
   "source": [
    "# Petroleum liquids Consumption to generate Electicity\n",
    "\n",
    "base_url=\"http://api.eia.gov/series/?\"\n",
    "series_id_to_call=[\"ELEC.CONS_TOT_BTU.PEL-NM-98.A\"]\n",
    "parame={\"api_key\":gkey,\"series_id\":series_id_to_call}\n",
    "Petroleum_Electicity_Consu = requests.get(base_url, params=parame).json()\n",
    "Petroleum_Electicity_Consu_df=pd.DataFrame(Petroleum_Electicity_Consu[\"series\"][0][\"data\"])\n",
    "Petroleum_Electicity_Consu_df.columns=[\"Year\",\"Petroleum liquids Electicity Consumption(Billion-Btu?)\"]\n",
    "Unit_Cal=Petroleum_Electicity_Consu_df[\"Petroleum liquids Electicity Consumption(Billion-Btu?)\"]*1000 \n",
    "Petroleum_Electicity_Consu_df[\"Petroleum liquids Electicity Consumption(Billion-Btu)\"]=Unit_Cal\n",
    "Petroleum_Electicity_Consu_df=Petroleum_Electicity_Consu_df.drop(\"Petroleum liquids Electicity Consumption(Billion-Btu?)\",axis=1)\n",
    "Petroleum_Electicity_Consu_df.head() # We have to change the unit "
   ]
  },
  {
   "cell_type": "code",
   "execution_count": 37,
   "metadata": {},
   "outputs": [
    {
     "data": {
      "text/html": [
       "<div>\n",
       "<style scoped>\n",
       "    .dataframe tbody tr th:only-of-type {\n",
       "        vertical-align: middle;\n",
       "    }\n",
       "\n",
       "    .dataframe tbody tr th {\n",
       "        vertical-align: top;\n",
       "    }\n",
       "\n",
       "    .dataframe thead th {\n",
       "        text-align: right;\n",
       "    }\n",
       "</style>\n",
       "<table border=\"1\" class=\"dataframe\">\n",
       "  <thead>\n",
       "    <tr style=\"text-align: right;\">\n",
       "      <th></th>\n",
       "      <th>Year</th>\n",
       "      <th>Natural Gas Electicity Consumption(Billion-Btu)</th>\n",
       "    </tr>\n",
       "  </thead>\n",
       "  <tbody>\n",
       "    <tr>\n",
       "      <th>0</th>\n",
       "      <td>2018</td>\n",
       "      <td>100146.56</td>\n",
       "    </tr>\n",
       "    <tr>\n",
       "      <th>1</th>\n",
       "      <td>2017</td>\n",
       "      <td>78800.44</td>\n",
       "    </tr>\n",
       "    <tr>\n",
       "      <th>2</th>\n",
       "      <td>2016</td>\n",
       "      <td>85374.03</td>\n",
       "    </tr>\n",
       "    <tr>\n",
       "      <th>3</th>\n",
       "      <td>2015</td>\n",
       "      <td>81243.94</td>\n",
       "    </tr>\n",
       "    <tr>\n",
       "      <th>4</th>\n",
       "      <td>2014</td>\n",
       "      <td>79539.85</td>\n",
       "    </tr>\n",
       "  </tbody>\n",
       "</table>\n",
       "</div>"
      ],
      "text/plain": [
       "   Year  Natural Gas Electicity Consumption(Billion-Btu)\n",
       "0  2018                                        100146.56\n",
       "1  2017                                         78800.44\n",
       "2  2016                                         85374.03\n",
       "3  2015                                         81243.94\n",
       "4  2014                                         79539.85"
      ]
     },
     "execution_count": 37,
     "metadata": {},
     "output_type": "execute_result"
    }
   ],
   "source": [
    "# Natural Gas Consumption to generate Electicity\n",
    "\n",
    "base_url=\"http://api.eia.gov/series/?\"\n",
    "series_id_to_call=[\"ELEC.CONS_TOT_BTU.NG-NM-98.A\"]\n",
    "parame={\"api_key\":gkey,\"series_id\":series_id_to_call}\n",
    "Natural_Gas_Consu = requests.get(base_url, params=parame).json()\n",
    "Natural_Gas_Consu_df=pd.DataFrame(Natural_Gas_Consu[\"series\"][0][\"data\"])\n",
    "Natural_Gas_Consu_df.columns=[\"Year\",\"Natural_Gas_Electicity Consumption(Billion-Btu?)\"]\n",
    "Unit_Cal=Natural_Gas_Consu_df[\"Natural_Gas_Electicity Consumption(Billion-Btu?)\"]*1000 \n",
    "Natural_Gas_Consu_df[\"Natural Gas Electicity Consumption(Billion-Btu)\"]=Unit_Cal\n",
    "Natural_Gas_Consu_df=Natural_Gas_Consu_df.drop(\"Natural_Gas_Electicity Consumption(Billion-Btu?)\",axis=1)\n",
    "Natural_Gas_Consu_df.head() # We have to change the unit \n"
   ]
  },
  {
   "cell_type": "code",
   "execution_count": 38,
   "metadata": {},
   "outputs": [
    {
     "data": {
      "text/html": [
       "<div>\n",
       "<style scoped>\n",
       "    .dataframe tbody tr th:only-of-type {\n",
       "        vertical-align: middle;\n",
       "    }\n",
       "\n",
       "    .dataframe tbody tr th {\n",
       "        vertical-align: top;\n",
       "    }\n",
       "\n",
       "    .dataframe thead th {\n",
       "        text-align: right;\n",
       "    }\n",
       "</style>\n",
       "<table border=\"1\" class=\"dataframe\">\n",
       "  <thead>\n",
       "    <tr style=\"text-align: right;\">\n",
       "      <th></th>\n",
       "      <th>Year</th>\n",
       "      <th>Coal Electicity Consumption(Billion-Btu)</th>\n",
       "      <th>Petroleum liquids Electicity Consumption(Billion-Btu)</th>\n",
       "      <th>Natural Gas Electicity Consumption(Billion-Btu)</th>\n",
       "    </tr>\n",
       "  </thead>\n",
       "  <tbody>\n",
       "    <tr>\n",
       "      <th>0</th>\n",
       "      <td>2018</td>\n",
       "      <td>135031.06</td>\n",
       "      <td>234.19</td>\n",
       "      <td>100146.56</td>\n",
       "    </tr>\n",
       "    <tr>\n",
       "      <th>1</th>\n",
       "      <td>2017</td>\n",
       "      <td>197336.77</td>\n",
       "      <td>455.74</td>\n",
       "      <td>78800.44</td>\n",
       "    </tr>\n",
       "    <tr>\n",
       "      <th>2</th>\n",
       "      <td>2016</td>\n",
       "      <td>195274.57</td>\n",
       "      <td>569.31</td>\n",
       "      <td>85374.03</td>\n",
       "    </tr>\n",
       "    <tr>\n",
       "      <th>3</th>\n",
       "      <td>2015</td>\n",
       "      <td>214012.66</td>\n",
       "      <td>713.56</td>\n",
       "      <td>81243.94</td>\n",
       "    </tr>\n",
       "    <tr>\n",
       "      <th>4</th>\n",
       "      <td>2014</td>\n",
       "      <td>213897.67</td>\n",
       "      <td>698.28</td>\n",
       "      <td>79539.85</td>\n",
       "    </tr>\n",
       "  </tbody>\n",
       "</table>\n",
       "</div>"
      ],
      "text/plain": [
       "   Year  Coal Electicity Consumption(Billion-Btu)  \\\n",
       "0  2018                                 135031.06   \n",
       "1  2017                                 197336.77   \n",
       "2  2016                                 195274.57   \n",
       "3  2015                                 214012.66   \n",
       "4  2014                                 213897.67   \n",
       "\n",
       "   Petroleum liquids Electicity Consumption(Billion-Btu)  \\\n",
       "0                                             234.19       \n",
       "1                                             455.74       \n",
       "2                                             569.31       \n",
       "3                                             713.56       \n",
       "4                                             698.28       \n",
       "\n",
       "   Natural Gas Electicity Consumption(Billion-Btu)  \n",
       "0                                        100146.56  \n",
       "1                                         78800.44  \n",
       "2                                         85374.03  \n",
       "3                                         81243.94  \n",
       "4                                         79539.85  "
      ]
     },
     "execution_count": 38,
     "metadata": {},
     "output_type": "execute_result"
    }
   ],
   "source": [
    "all_Comsupmtion_Electricity_data=[Coal_Electicity_Consu_df,Petroleum_Electicity_Consu_df,Natural_Gas_Consu_df]\n",
    "Electricity_Consumption_table=reduce(lambda left,right: pd.merge(left,right,on='Year'), all_Comsupmtion_Electricity_data)\n",
    "Electricity_Consumption_table.head()"
   ]
  },
  {
   "cell_type": "code",
   "execution_count": 39,
   "metadata": {},
   "outputs": [
    {
     "data": {
      "image/png": "[encoded data removed]",
      "text/plain": [
       "<Figure size 432x288 with 1 Axes>"
      ]
     },
     "metadata": {
      "needs_background": "light"
     },
     "output_type": "display_data"
    }
   ],
   "source": [
    "Electricity_Consumption_table.plot(\"Year\",)\n",
    "plt.gca().invert_xaxis() #invert axes\n",
    "plt.legend(bbox_to_anchor=(1.05, 1), loc=2, borderaxespad=0.)\n",
    "plt.ylabel('Billion-Btu')\n",
    "plt.title('Energy (Electricity) Consumption by Source')\n",
    "plt.grid(True)\n",
    "plt.show()"
   ]
  },
  {
   "cell_type": "code",
   "execution_count": null,
   "metadata": {},
   "outputs": [],
   "source": []
  }
 ],
 "metadata": {
  "kernelspec": {
   "display_name": "Python 3",
   "language": "python",
   "name": "python3"
  },
  "language_info": {
   "codemirror_mode": {
    "name": "ipython",
    "version": 3
   },
   "file_extension": ".py",
   "mimetype": "text/x-python",
   "name": "python",
   "nbconvert_exporter": "python",
   "pygments_lexer": "ipython3",
   "version": "3.7.2"
  }
 },
 "nbformat": 4,
 "nbformat_minor": 2
}
