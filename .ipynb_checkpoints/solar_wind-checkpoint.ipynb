{
 "cells": [
  {
   "cell_type": "code",
   "execution_count": null,
   "metadata": {},
   "outputs": [],
   "source": [
    "import pandas as pd\n",
    "import numpy as np\n",
    "import json\n",
    "import requests\n",
    "from config_project1 import gkey\n",
    "import matplotlib.pyplot as plt\n"
   ]
  },
  {
   "cell_type": "code",
   "execution_count": null,
   "metadata": {},
   "outputs": [],
   "source": [
    "#base URL: http://api.eia.gov/category/?api_key=YOUR_API_KEY_HERE&category_id=371\n",
    "url = \"http://api.eia.gov/category/?\"\n",
    "\n",
    "#series name: Consumption for electricity generation : coal : New Mexico : electric power (total) : annual\n",
    "#ELEC.CONS_EG.COW-NM-98.A \n",
    "parame={\"api_key\":gkey, \"category_id\":\"ELEC.CONS_EG.COW-NM-98.A\"}\n",
    "\n",
    "\n",
    "#generating data via the url and api key\n",
    "response_json = requests.get(url, params=parame).json()\n",
    "response_json\n",
    "print(json.dumps(response_json, indent=4, sort_keys=True))\n",
    "#response_json [\"category\"][\"name\"]"
   ]
  }
 ],
 "metadata": {
  "kernelspec": {
   "display_name": "Python 3",
   "language": "python",
   "name": "python3"
  },
  "language_info": {
   "codemirror_mode": {
    "name": "ipython",
    "version": 3
   },
   "file_extension": ".py",
   "mimetype": "text/x-python",
   "name": "python",
   "nbconvert_exporter": "python",
   "pygments_lexer": "ipython3",
   "version": "3.7.1"
  }
 },
 "nbformat": 4,
 "nbformat_minor": 2
}
