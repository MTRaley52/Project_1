{
 "cells": [
  {
   "cell_type": "code",
   "execution_count": 1,
   "metadata": {},
   "outputs": [],
   "source": [
    "import pandas as pd\n",
    "import numpy as np\n",
    "import requests\n",
    "import json\n",
    "\n",
    "from confy import gkey"
   ]
  },
  {
   "cell_type": "code",
   "execution_count": 2,
   "metadata": {},
   "outputs": [],
   "source": [
    "base_url=\"http://api.eia.gov/geoset/?geoset_id=sssssss&regions=NewMexico&api_key=gkey[&start=|&num=1960][&end=2016][&out=json]\""
   ]
  },
  {
   "cell_type": "code",
   "execution_count": 5,
   "metadata": {},
   "outputs": [],
   "source": [
    "base_url=\"http://api.eia.gov/series/?\"\n",
    "#api_key=YOUR_API_KEY_HERE&series_id=SEDS.CLPRB.NM.A\n",
    "parame={\"api_key\":gkey,\"series_id\":\"SEDS.CLPRB.NM.A\"}"
   ]
  },
  {
   "cell_type": "code",
   "execution_count": 6,
   "metadata": {},
   "outputs": [
    {
     "data": {
      "text/plain": [
       "{'request': {'command': 'series', 'series_id': 'SEDS.CLPRB.NM.A'},\n",
       " 'series': [{'series_id': 'SEDS.CLPRB.NM.A',\n",
       "   'name': 'Coal production, New Mexico',\n",
       "   'units': 'Billion Btu',\n",
       "   'f': 'A',\n",
       "   'description': 'Coal production, New Mexico See http://www.eia.gov/state/seds/seds-technical-notes-complete.cfm?sid=US for technical notes and documentation.',\n",
       "   'copyright': 'None',\n",
       "   'source': 'SEDS, EIA, U.S. Energy Information Administration',\n",
       "   'iso3166': 'USA-NM',\n",
       "   'geography': 'USA-NM',\n",
       "   'start': '1960',\n",
       "   'end': '2016',\n",
       "   'updated': '2018-10-26T15:52:18-0400',\n",
       "   'data': [['2016', 246549],\n",
       "    ['2015', 357525],\n",
       "    ['2014', 400158],\n",
       "    ['2013', 400228],\n",
       "    ['2012', 409050],\n",
       "    ['2011', 405952],\n",
       "    ['2010', 381448],\n",
       "    ['2009', 466100],\n",
       "    ['2008', 475817],\n",
       "    ['2007', 455522],\n",
       "    ['2006', 485090],\n",
       "    ['2005', 536980],\n",
       "    ['2004', 510869],\n",
       "    ['2003', 490629],\n",
       "    ['2002', 543314],\n",
       "    ['2001', 554846],\n",
       "    ['2000', 513357],\n",
       "    ['1999', 547678],\n",
       "    ['1998', 534746],\n",
       "    ['1997', 505578],\n",
       "    ['1996', 452294],\n",
       "    ['1995', 507955],\n",
       "    ['1994', 533893],\n",
       "    ['1993', 535318],\n",
       "    ['1992', 457758],\n",
       "    ['1991', 400542],\n",
       "    ['1990', 454214],\n",
       "    ['1989', 444915],\n",
       "    ['1988', 407855],\n",
       "    ['1987', 359625],\n",
       "    ['1986', 404083],\n",
       "    ['1985', 420410],\n",
       "    ['1984', 397917],\n",
       "    ['1983', 381364],\n",
       "    ['1982', 375420],\n",
       "    ['1981', 355602],\n",
       "    ['1980', 345071],\n",
       "    ['1979', 292444],\n",
       "    ['1978', 232636],\n",
       "    ['1977', 200268],\n",
       "    ['1976', 175430],\n",
       "    ['1975', 157541],\n",
       "    ['1974', 168496],\n",
       "    ['1973', 164714],\n",
       "    ['1972', 154290],\n",
       "    ['1971', 152924],\n",
       "    ['1970', 137698],\n",
       "    ['1969', 83636],\n",
       "    ['1968', 64144],\n",
       "    ['1967', 64780],\n",
       "    ['1966', 51536],\n",
       "    ['1965', 60085],\n",
       "    ['1964', 55539],\n",
       "    ['1963', 36384],\n",
       "    ['1962', 12664],\n",
       "    ['1961', 7707],\n",
       "    ['1960', 5518]]}]}"
      ]
     },
     "execution_count": 6,
     "metadata": {},
     "output_type": "execute_result"
    }
   ],
   "source": [
    "response_json = requests.get(base_url, params=parame).json()\n",
    "response_json"
   ]
  },
  {
   "cell_type": "code",
   "execution_count": 10,
   "metadata": {},
   "outputs": [
    {
     "ename": "TypeError",
     "evalue": "list indices must be integers or slices, not str",
     "output_type": "error",
     "traceback": [
      "\u001b[1;31m---------------------------------------------------------------------------\u001b[0m",
      "\u001b[1;31mTypeError\u001b[0m                                 Traceback (most recent call last)",
      "\u001b[1;32m<ipython-input-10-201375fef183>\u001b[0m in \u001b[0;36m<module>\u001b[1;34m\u001b[0m\n\u001b[1;32m----> 1\u001b[1;33m \u001b[0mpd\u001b[0m\u001b[1;33m.\u001b[0m\u001b[0mDataFrame\u001b[0m\u001b[1;33m(\u001b[0m\u001b[0mresponse_json\u001b[0m\u001b[1;33m[\u001b[0m\u001b[1;34m\"series\"\u001b[0m\u001b[1;33m]\u001b[0m\u001b[1;33m[\u001b[0m\u001b[1;34m\"data\"\u001b[0m\u001b[1;33m]\u001b[0m\u001b[1;33m)\u001b[0m\u001b[1;33m\u001b[0m\u001b[1;33m\u001b[0m\u001b[0m\n\u001b[0m",
      "\u001b[1;31mTypeError\u001b[0m: list indices must be integers or slices, not str"
     ]
    }
   ],
   "source": [
    "pd.DataFrame(response_json[\"series\"][\"data\"])"
   ]
  },
  {
   "cell_type": "code",
   "execution_count": null,
   "metadata": {},
   "outputs": [],
   "source": []
  }
 ],
 "metadata": {
  "kernelspec": {
   "display_name": "Python 3",
   "language": "python",
   "name": "python3"
  },
  "language_info": {
   "codemirror_mode": {
    "name": "ipython",
    "version": 3
   },
   "file_extension": ".py",
   "mimetype": "text/x-python",
   "name": "python",
   "nbconvert_exporter": "python",
   "pygments_lexer": "ipython3",
   "version": "3.7.2"
  }
 },
 "nbformat": 4,
 "nbformat_minor": 2
}
